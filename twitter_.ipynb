{
 "cells": [
  {
   "cell_type": "code",
   "execution_count": 10,
   "metadata": {
    "collapsed": false,
    "scrolled": true
   },
   "outputs": [
    {
     "name": "stdout",
     "output_type": "stream",
     "text": [
      "https://twitter.com/search?q=The%20pen%20is%20mightier%20than%20the%20sword\n"
     ]
    }
   ],
   "source": [
    "from urllib import request\n",
    "\n",
    "_quote = \"The pen is mightier than the sword\"\n",
    "#_quote = \"There is a natural aristocracy among men. The grounds of this are virtue and talents.\"\n",
    "quote = _quote.replace(\" \", \"%20\")\n",
    "\n",
    "keyword = \"https://twitter.com/search?q=\"+quote\n",
    "print(keyword)\n",
    "crawling_page = request.urlopen(keyword, timeout=20).read().decode('utf-8')"
   ]
  },
  {
   "cell_type": "code",
   "execution_count": 11,
   "metadata": {
    "collapsed": false
   },
   "outputs": [],
   "source": [
    "from bs4 import BeautifulSoup\n",
    "\n",
    "soup = BeautifulSoup(crawling_page, 'html.parser')"
   ]
  },
  {
   "cell_type": "code",
   "execution_count": 12,
   "metadata": {
    "collapsed": false,
    "scrolled": false
   },
   "outputs": [],
   "source": [
    "tweet_text = soup.findAll('p', attrs={'class':\"TweetTextSize\"})"
   ]
  },
  {
   "cell_type": "code",
   "execution_count": 13,
   "metadata": {
    "collapsed": false
   },
   "outputs": [
    {
     "name": "stdout",
     "output_type": "stream",
     "text": [
      "The pen is mightier than the sword as long as it doesn't run out of ink. \n",
      "\n",
      "PhD students: The pen is mightier than the sword.\n",
      "Join #AcWri/me + #scicomm/@markfischetti: \n",
      "http://www.kimnicholas.com/writing-for-change.html …pic.twitter.com/0SUTU2uQrn \n",
      "\n",
      "Joker \"The Pen Is Mightier Than The Sword\" | #Batman (1989) https://youtu.be/sc_gSVMMy5I  #MichaelKeaton #JackNicholson #Joker #DCComicspic.twitter.com/Y17EJzaYE2 \n",
      "\n",
      "Beneath the rule of men entirely great, the pen is mightier than the sword. Lytton \n",
      "\n",
      "The pen is mightier than the sword if you're in an office environment and desperately need to stab someone in the jugular. \n",
      "\n",
      "They say the pen is mightier than the sword. We say the strongest is an open-minded individual with a keyboard. \n",
      "\n",
      "If the pen is mightier than the sword, Graceful One, bless us with an ocean of indelible ink. Now more than ever, we have battles to write. pic.twitter.com/zVXHSJxqi1 \n",
      "\n",
      "'The pen is mightier than the sword'......wise words.....unless its fashioned into a shank and powerfully gouged through an eye socket. \n",
      "\n",
      "The pen is mightier than the sword, it's the tongue of the mind @therealocizzle Soulsville is incredible #samemoonsamesun #oc #ditc #hiphoppic.twitter.com/53GuESebtu \n",
      "\n",
      "The pen is mightier than the sword; it's also easier to write with. \n",
      "\n",
      "The pen is mightier than the sword.\n",
      "Unless you are getting beheaded. \n",
      "\n",
      "also i dont have scissors on hand so i stabbed the tape with a pen like haha i dont need scissors--the pen is mIGHTIER THAN THE SWORD \n",
      "\n",
      "ignis: the pen is mightier than the sword\n",
      "gladio: (begins stabbing garulas with a sharpie) \n",
      "\n",
      "#Trump is taking that \"the pen is mightier than the sword\" adage too far... \n",
      "\n",
      "The Pen Is Mightier Than The Sword! #screenwriting #actorslife #BFIhttps://twitter.com/thejakefrancis/status/825273717722906629 … \n",
      "\n",
      "The pen is mightier than the sword... that is, unless people don't know how to read. \n",
      "\n",
      "\"Whoever said the pen is mightier than the sword obviously never encountered automatic weapons.\" pic.twitter.com/ZGY95mIxgF \n",
      "\n",
      "The Russians proving that \"the pen is mightier than the sword.\" #PoemsAboutTrumpAndMayhttps://twitter.com/russianembassy/status/824935584120582145 … \n",
      "\n",
      "\"So the pen IS mightier than the sword my lord / My first picture was a line-up, now I'm on the Forbes\" #Pressure \n",
      "\n"
     ]
    },
    {
     "data": {
      "text/plain": [
       "19"
      ]
     },
     "execution_count": 13,
     "metadata": {},
     "output_type": "execute_result"
    }
   ],
   "source": [
    "for i in tweet_text:\n",
    "    print(i.text, \"\\n\")\n",
    "    \n",
    "len(tweet_text)"
   ]
  },
  {
   "cell_type": "code",
   "execution_count": null,
   "metadata": {
    "collapsed": true
   },
   "outputs": [],
   "source": [
    "tweet_div = soup.findAll('div', attrs={'class':\"original-tweet\"})"
   ]
  },
  {
   "cell_type": "code",
   "execution_count": null,
   "metadata": {
    "collapsed": false,
    "scrolled": true
   },
   "outputs": [],
   "source": []
  },
  {
   "cell_type": "code",
   "execution_count": null,
   "metadata": {
    "collapsed": false
   },
   "outputs": [],
   "source": [
    "#답글 수\n",
    "\n",
    "for div in tweet_div:\n",
    "    reply_count = div.find('span', attrs={'class':'ProfileTweet-actionCountForPresentation'})\n",
    "    if (reply_count.text).isdigit() == True and int(reply_count.text) >= 2:\n",
    "        print(reply_count.text)\n",
    "        \n",
    "        path = div.get('data-permalink-path')\n",
    "    \n",
    "    #tweet_id = div.get('data-tweet-id')\n",
    "    #user_id = div.find('span', attrs={'class':'username'})\n",
    "    #print(user_id.find('b').text)"
   ]
  },
  {
   "cell_type": "code",
   "execution_count": 5,
   "metadata": {
    "collapsed": false
   },
   "outputs": [],
   "source": [
    "path = \"viklaire/status/825926492903215104\"\n",
    "#path = \"Bandersnaaatch/status/826980949372043264\"\n",
    "corpus_url = \"https://twitter.com/\"+path\n",
    "corpus_data = request.urlopen(corpus_url).read()\n",
    "corpus_soup = BeautifulSoup(corpus_data, 'html.parser')"
   ]
  },
  {
   "cell_type": "code",
   "execution_count": 6,
   "metadata": {
    "collapsed": false
   },
   "outputs": [],
   "source": [
    "permalink_data = corpus_soup.find('div', attrs={'class':'permalink', 'role':'main'})"
   ]
  },
  {
   "cell_type": "code",
   "execution_count": 7,
   "metadata": {
    "collapsed": false
   },
   "outputs": [
    {
     "data": {
      "text/plain": [
       "'ignis: the pen is mightier than the sword\\ngladio: (begins stabbing garulas with a sharpie)'"
      ]
     },
     "execution_count": 7,
     "metadata": {},
     "output_type": "execute_result"
    }
   ],
   "source": [
    "_original_tweet = permalink_data.find('div', attrs={'class':'js-original-tweet'})\n",
    "original_tweet = _original_tweet.find('p', attrs={'class':'tweet-text'})\n",
    "original_tweet.text"
   ]
  },
  {
   "cell_type": "code",
   "execution_count": 9,
   "metadata": {
    "collapsed": false
   },
   "outputs": [
    {
     "name": "stdout",
     "output_type": "stream",
     "text": [
      "@viklaire it's actually plausible i'm tearing up lmaoo\n",
      "@utamsop gladio is a trusting soul\n"
     ]
    }
   ],
   "source": [
    "permalink_replies = permalink_data.find('div', attrs={'class':'replies-to'})\n",
    "_thread_tweet = permalink_replies.find('li', attrs={'class':'ThreadedConversation'})\n",
    "if _thread_tweet != None:\n",
    "    thread_tweet = _thread_tweet.findAll('div', attrs={'class': 'ThreadedConversation-tweet'})\n",
    "    #print(thread_tweet)\n",
    "\n",
    "    for tweet in thread_tweet:\n",
    "        _tweet_text = tweet.find('div', attrs={'class': 'js-tweet-text-container'})\n",
    "        print((_tweet_text.find('p', attrs={'class': 'tweet-text'})).text)"
   ]
  },
  {
   "cell_type": "code",
   "execution_count": null,
   "metadata": {
    "collapsed": true
   },
   "outputs": [],
   "source": [
    "with open('cleaned_quote.txt', 'r') as in_file:\n",
    "    data = in_file.read().split('\\n')"
   ]
  },
  {
   "cell_type": "code",
   "execution_count": null,
   "metadata": {
    "collapsed": true
   },
   "outputs": [],
   "source": [
    "data[:-1]"
   ]
  },
  {
   "cell_type": "code",
   "execution_count": null,
   "metadata": {
    "collapsed": false
   },
   "outputs": [],
   "source": [
    "from urllib import request\n",
    "from bs4 import BeautifulSoup\n",
    "\n",
    "with open('1.txt', 'r') as in_file:\n",
    "    data = in_file.read().split('\\n')\n",
    "\n",
    "quote_list = [i for i in data[:-1]]\n",
    "\n",
    "for _quote in quote_list:\n",
    "    quote = _quote.replace(\" \", \"%20\")\n",
    "\n",
    "    keyword = \"https://twitter.com/search?q=\"+quote\n",
    "    print(keyword)\n",
    "    crawling_page = request.urlopen(keyword).read().decode('utf-8')\n",
    "\n",
    "    soup = BeautifulSoup(crawling_page, 'html.parser')\n",
    "\n",
    "    tweet_div = soup.findAll('div', attrs={'class':\"original-tweet\"})\n",
    "    \n",
    "    tweet_text = soup.findAll('p', attrs={'class':\"TweetTextSize\"})\n",
    "    for i in tweet_text:\n",
    "        print(i.text, \"\\n\")\n",
    "    \n",
    "    for div in tweet_div:\n",
    "        reply_count = div.find('span', attrs={'class':'ProfileTweet-actionCountForPresentation'})\n",
    "        if (reply_count.text).isdigit() == True and int(reply_count.text) >= 2:\n",
    "        #print(reply_count.text)\n",
    "\n",
    "            path = div.get('data-permalink-path')\n",
    "\n",
    "            corpus_url = \"https://twitter.com/\"+path\n",
    "            corpus_data = request.urlopen(corpus_url).read()\n",
    "            corpus_soup = BeautifulSoup(corpus_data, 'html.parser')\n",
    "            permalink_data = corpus_soup.find('div', attrs={'class':'permalink', 'role':'main'})\n",
    "\n",
    "            _original_tweet = permalink_data.find('div', attrs={'class':'js-original-tweet'})\n",
    "            original_tweet = _original_tweet.find('p', attrs={'class':'tweet-text'})\n",
    "        #print(original_tweet.text)\n",
    "\n",
    "            permalink_replies = permalink_data.find('div', attrs={'class':'replies-to'})\n",
    "            _thread_tweet = permalink_replies.find('li', attrs={'class':'ThreadedConversation'})\n",
    "\n",
    "            if _thread_tweet != None:\n",
    "                thread_tweet = _thread_tweet.findAll('div', attrs={'class': 'ThreadedConversation-tweet'})\n",
    "            #print(thread_tweet)\n",
    "\n",
    "                print(original_tweet.text, \"\\n\")\n",
    "                for tweet in thread_tweet:\n",
    "                    _tweet_text = tweet.find('div', attrs={'class': 'js-tweet-text-container'})\n",
    "                    print((_tweet_text.find('p', attrs={'class': 'tweet-text'})).text)\n",
    "\n",
    "                print(\"\\n\\n\")\n",
    "\n",
    "\n",
    "        break"
   ]
  },
  {
   "cell_type": "code",
   "execution_count": null,
   "metadata": {
    "collapsed": true
   },
   "outputs": [],
   "source": []
  }
 ],
 "metadata": {
  "kernelspec": {
   "display_name": "Python 3",
   "language": "python",
   "name": "python3"
  },
  "language_info": {
   "codemirror_mode": {
    "name": "ipython",
    "version": 3
   },
   "file_extension": ".py",
   "mimetype": "text/x-python",
   "name": "python",
   "nbconvert_exporter": "python",
   "pygments_lexer": "ipython3",
   "version": "3.4.5"
  }
 },
 "nbformat": 4,
 "nbformat_minor": 0
}
