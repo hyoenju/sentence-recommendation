{
 "cells": [
  {
   "cell_type": "code",
   "execution_count": 1,
   "metadata": {
    "collapsed": false
   },
   "outputs": [],
   "source": [
    "import pickle\n",
    "\n",
    "movie = pickle.load( open( \"movie_tweet_2.pkl\", \"rb\" ) )"
   ]
  },
  {
   "cell_type": "code",
   "execution_count": 2,
   "metadata": {
    "collapsed": false
   },
   "outputs": [],
   "source": [
    "from copy import copy\n",
    "\n",
    "movie_tweet = copy(movie)"
   ]
  },
  {
   "cell_type": "code",
   "execution_count": 3,
   "metadata": {
    "collapsed": false
   },
   "outputs": [],
   "source": [
    "import re\n",
    "\n",
    "for idx, data in enumerate(movie_tweet):\n",
    "    title = data['title'].lower()\n",
    "    movie_conversation = []\n",
    "    for tweet in data['tweet']:\n",
    "        cleaned_tweet = re.sub('[^A-Za-z0-9_\\s]', \"\", tweet.lower())\n",
    "        tweet_list = cleaned_tweet.split(\" \")\n",
    "        if title in tweet_list:\n",
    "            tweet_list.remove(title)\n",
    "        if '' in tweet_list:\n",
    "            space_count = tweet_list.count('')\n",
    "            for _ in range(space_count):\n",
    "                tweet_list.remove('')\n",
    "    \n",
    "        movie_conversation.append(' '.join(tweet_list))\n",
    "    movie_tweet[idx]['tweet'] = movie_conversation"
   ]
  },
  {
   "cell_type": "code",
   "execution_count": 4,
   "metadata": {
    "collapsed": false
   },
   "outputs": [],
   "source": [
    "from nltk.tokenize import word_tokenize\n",
    "from nltk.tag import pos_tag\n",
    "from nltk.stem import PorterStemmer\n",
    "from nltk.corpus import stopwords\n",
    "\n",
    "st = PorterStemmer()\n",
    "stop = set(stopwords.words('english'))\n",
    "\n",
    "tweet_token = copy(movie_tweet)\n",
    "\n",
    "for idx, data in enumerate(movie_tweet):\n",
    "    tweet_data = []\n",
    "    for tweet in data['tweet']:\n",
    "        token_and_stem = [st.stem(i) for i in word_tokenize(tweet)]\n",
    "        \n",
    "        filtered_words = [i for i in token_and_stem if i not in stop]\n",
    "        tweet_data.append(filtered_words)        \n",
    "    \n",
    "    tweet_token[idx]['tweet'] = tweet_data"
   ]
  },
  {
   "cell_type": "code",
   "execution_count": 5,
   "metadata": {
    "collapsed": false
   },
   "outputs": [],
   "source": [
    "import pandas as pd\n",
    "\n",
    "df = pd.DataFrame.from_dict(tweet_token)"
   ]
  },
  {
   "cell_type": "code",
   "execution_count": 6,
   "metadata": {
    "collapsed": false
   },
   "outputs": [],
   "source": [
    "tweet_words = []\n",
    "for i in df.tweet:\n",
    "    tweet = []\n",
    "    for j in i:\n",
    "        tweet.extend(j)\n",
    "    tweet_words.append(tweet)"
   ]
  },
  {
   "cell_type": "code",
   "execution_count": 7,
   "metadata": {
    "collapsed": false,
    "scrolled": false
   },
   "outputs": [
    {
     "name": "stderr",
     "output_type": "stream",
     "text": [
      "/home/hyeonju/anaconda3/envs/ml_python/lib/python3.4/site-packages/gensim/utils.py:1015: UserWarning: Pattern library is not installed, lemmatization won't be available.\n",
      "  warnings.warn(\"Pattern library is not installed, lemmatization won't be available.\")\n"
     ]
    }
   ],
   "source": [
    "import gensim\n",
    "\n",
    "Word2Vec_model = gensim.models.Word2Vec(sentences=tweet_words, min_count=5, )"
   ]
  },
  {
   "cell_type": "code",
   "execution_count": 8,
   "metadata": {
    "collapsed": false
   },
   "outputs": [],
   "source": [
    "import numpy as np\n",
    "\n",
    "tweet_Word2Vec = list(copy(df.tweet))\n",
    "\n",
    "for idx, thread in enumerate(df.tweet):\n",
    "    for t_idx, tweet in enumerate(thread):\n",
    "        for w_idx, word in enumerate(tweet):\n",
    "            try:\n",
    "                tweet_Word2Vec[idx][t_idx][w_idx] = Word2Vec_model[word]\n",
    "            except:\n",
    "                tweet_Word2Vec[idx][t_idx][w_idx] = np.zeros(100)"
   ]
  },
  {
   "cell_type": "code",
   "execution_count": 9,
   "metadata": {
    "collapsed": false
   },
   "outputs": [],
   "source": [
    "max_word_size = 0\n",
    "max_conversation_size = 0\n",
    "\n",
    "for conversation_list in tweet_Word2Vec:\n",
    "    if len(conversation_list) > max_conversation_size:\n",
    "        max_conversation_size = len(conversation_list)\n",
    "    for word_list in conversation_list:\n",
    "        if len(word_list) > max_word_size:\n",
    "            max_word_size = len(word_list)"
   ]
  },
  {
   "cell_type": "code",
   "execution_count": 10,
   "metadata": {
    "collapsed": false
   },
   "outputs": [
    {
     "data": {
      "text/plain": [
       "27"
      ]
     },
     "execution_count": 10,
     "metadata": {},
     "output_type": "execute_result"
    }
   ],
   "source": [
    "max_word_size"
   ]
  },
  {
   "cell_type": "code",
   "execution_count": 11,
   "metadata": {
    "collapsed": false
   },
   "outputs": [
    {
     "data": {
      "text/plain": [
       "9"
      ]
     },
     "execution_count": 11,
     "metadata": {},
     "output_type": "execute_result"
    }
   ],
   "source": [
    "max_conversation_size"
   ]
  },
  {
   "cell_type": "code",
   "execution_count": 12,
   "metadata": {
    "collapsed": false
   },
   "outputs": [],
   "source": [
    "for idx, thread in enumerate(tweet_Word2Vec):\n",
    "    zeros_thread_size = max_conversation_size-len(thread)\n",
    "    if zeros_thread_size < max_conversation_size:\n",
    "            for _ in range(zeros_thread_size):\n",
    "                tweet_Word2Vec[idx].append([np.zeros(100) for i in range(max_conversation_size)])\n",
    "    for t_idx, tweet in enumerate(thread):\n",
    "        zeros_word_size = max_word_size-len(tweet)\n",
    "        if  zeros_word_size < max_word_size:\n",
    "            for _ in range(zeros_word_size):\n",
    "                tweet_Word2Vec[idx][t_idx].append(np.zeros(100))"
   ]
  },
  {
   "cell_type": "code",
   "execution_count": 13,
   "metadata": {
    "collapsed": false
   },
   "outputs": [],
   "source": [
    "tweet_Word2Vec= np.array(tweet_Word2Vec)"
   ]
  },
  {
   "cell_type": "code",
   "execution_count": 14,
   "metadata": {
    "collapsed": false
   },
   "outputs": [],
   "source": [
    "for idx, t_list in enumerate(tweet_Word2Vec):\n",
    "    tweet_Word2Vec[idx] = np.array(tweet_Word2Vec[idx])\n",
    "    for t_idx, w_list in enumerate(t_list):\n",
    "        tweet_Word2Vec[idx][t_idx] = np.array(tweet_Word2Vec[idx][t_idx])"
   ]
  },
  {
   "cell_type": "code",
   "execution_count": 15,
   "metadata": {
    "collapsed": false
   },
   "outputs": [
    {
     "name": "stdout",
     "output_type": "stream",
     "text": [
      "7919\n",
      "9\n",
      "27\n",
      "100\n"
     ]
    }
   ],
   "source": [
    "print(len(tweet_Word2Vec))\n",
    "print(len(tweet_Word2Vec[0]))\n",
    "print(len(tweet_Word2Vec[0][0]))\n",
    "print(len(tweet_Word2Vec[0][0][0]))"
   ]
  },
  {
   "cell_type": "code",
   "execution_count": 16,
   "metadata": {
    "collapsed": false
   },
   "outputs": [],
   "source": [
    "title = list(copy(df.title))\n",
    "title_set = {movie:idx for idx, movie in enumerate(list(set(title)))}\n",
    "\n",
    "title_index = [title_set[i] for i in title]"
   ]
  },
  {
   "cell_type": "code",
   "execution_count": 17,
   "metadata": {
    "collapsed": false
   },
   "outputs": [],
   "source": [
    "import tensorflow as tf\n",
    "\n",
    "y_data = tf.one_hot(title_index, len(title_set), \n",
    "                    1.0, 0.0, -1)"
   ]
  },
  {
   "cell_type": "code",
   "execution_count": 18,
   "metadata": {
    "collapsed": false
   },
   "outputs": [
    {
     "data": {
      "text/plain": [
       "<tf.Tensor 'one_hot:0' shape=(7919, 1847) dtype=float32>"
      ]
     },
     "execution_count": 18,
     "metadata": {},
     "output_type": "execute_result"
    }
   ],
   "source": [
    "y_data"
   ]
  },
  {
   "cell_type": "code",
   "execution_count": 19,
   "metadata": {
    "collapsed": false
   },
   "outputs": [],
   "source": [
    "X = tf.placeholder(\"float\", shape=[None, 9, 27, 100])\n",
    "# X = tf.placeholder(\"float\", shape=[9, 27, 100])\n",
    "\n",
    "Y = tf.placeholder(\"float\", shape=[None, 1847])"
   ]
  },
  {
   "cell_type": "code",
   "execution_count": 20,
   "metadata": {
    "collapsed": false
   },
   "outputs": [],
   "source": [
    "def conv2d(x, W, b):\n",
    "    # Conv2D wrapper, with bias and relu activation\n",
    "    x = tf.nn.conv2d(x, W, strides=[1, 1, 1, 1], padding='SAME')\n",
    "    x = tf.nn.bias_add(x, b)\n",
    "    return tf.nn.relu(x)\n",
    "\n",
    "def maxpool2d(x, s):\n",
    "    # MaxPool2D wrapper\n",
    "    return tf.nn.max_pool(x, ksize=[1, s, s, 0], strides=[1, 1, 1, 1],\n",
    "                          padding='SAME')\n",
    "\n",
    "# Create model\n",
    "def conv_net(x, weights, biases):\n",
    "    # Convolution Layer\n",
    "    conv1 = conv2d(x, weights['wc1'], biases['bc1'])\n",
    "    conv2 = conv2d(x, weights['wc2'], biases['bc2'])\n",
    "    conv3 = conv2d(x, weights['wc3'], biases['bc3'])\n",
    "\n",
    "    \n",
    "    # Max Pooling (down-sampling)\n",
    "    conv1 = maxpool2d(conv1, 3)\n",
    "    print(conv1)\n",
    "    conv2 = maxpool2d(conv2, 3)\n",
    "    print(conv2)\n",
    "    conv3 = maxpool2d(conv3, 3)\n",
    "    print(conv3)\n",
    "    \n",
    "\n",
    "    concat = tf.concat([conv1, conv2, conv3], 0)\n",
    "    return concat\n",
    "\n",
    "\n",
    "#     h_drop = tf.nn.dropout(self.h_pool_flat, 0.75)"
   ]
  },
  {
   "cell_type": "code",
   "execution_count": 21,
   "metadata": {
    "collapsed": false
   },
   "outputs": [],
   "source": [
    "# n_input = 784 # MNIST data input (img shape: 28*28)\n",
    "# n_classes = 1847 # MNIST total classes (0-9 digits)\n",
    "# dropout = 0.75 # Dropout, probability to keep units\n",
    "\n",
    "weights = {\n",
    "    'wc1': tf.Variable(tf.truncated_normal([2, 2, 100, 1])),\n",
    "    'wc2': tf.Variable(tf.truncated_normal([3, 3, 100, 1])),\n",
    "    'wc3': tf.Variable(tf.truncated_normal([4, 4, 100, 1])),\n",
    "}\n",
    "\n",
    "biases = {\n",
    "    'bc1': tf.Variable(tf.random_normal([1])),\n",
    "    'bc2': tf.Variable(tf.random_normal([1])),\n",
    "    'bc3': tf.Variable(tf.random_normal([1])),\n",
    "}"
   ]
  },
  {
   "cell_type": "code",
   "execution_count": 22,
   "metadata": {
    "collapsed": false
   },
   "outputs": [
    {
     "name": "stdout",
     "output_type": "stream",
     "text": [
      "Tensor(\"MaxPool:0\", shape=(?, 9, 27, 1), dtype=float32)\n",
      "Tensor(\"MaxPool_1:0\", shape=(?, 9, 27, 1), dtype=float32)\n",
      "Tensor(\"MaxPool_2:0\", shape=(?, 9, 27, 1), dtype=float32)\n"
     ]
    },
    {
     "data": {
      "text/plain": [
       "<tf.Tensor 'concat:0' shape=(?, 9, 27, 1) dtype=float32>"
      ]
     },
     "execution_count": 22,
     "metadata": {},
     "output_type": "execute_result"
    }
   ],
   "source": [
    "conv_net(X, weights, biases)"
   ]
  },
  {
   "cell_type": "code",
   "execution_count": 23,
   "metadata": {
    "collapsed": false
   },
   "outputs": [
    {
     "name": "stdout",
     "output_type": "stream",
     "text": [
      "Tensor(\"MaxPool_3:0\", shape=(?, 9, 27, 1), dtype=float32)\n",
      "Tensor(\"MaxPool_4:0\", shape=(?, 9, 27, 1), dtype=float32)\n",
      "Tensor(\"MaxPool_5:0\", shape=(?, 9, 27, 1), dtype=float32)\n"
     ]
    }
   ],
   "source": [
    "# RNN Model\n",
    "\n",
    "rnn_input = conv_net(X, weights, biases)"
   ]
  },
  {
   "cell_type": "code",
   "execution_count": 24,
   "metadata": {
    "collapsed": false
   },
   "outputs": [
    {
     "data": {
      "text/plain": [
       "<tf.Tensor 'Shape:0' shape=(2,) dtype=int32>"
      ]
     },
     "execution_count": 24,
     "metadata": {},
     "output_type": "execute_result"
    }
   ],
   "source": [
    "tf.shape(Y)"
   ]
  },
  {
   "cell_type": "code",
   "execution_count": 25,
   "metadata": {
    "collapsed": false
   },
   "outputs": [
    {
     "name": "stdout",
     "output_type": "stream",
     "text": [
      "WARNING:tensorflow:<tensorflow.contrib.rnn.python.ops.core_rnn_cell_impl.BasicLSTMCell object at 0x7f9fcdb717b8>: Using a concatenated state is slower and will soon be deprecated.  Use state_is_tuple=True.\n"
     ]
    }
   ],
   "source": [
    "lstm_size = 1847 #output size\n",
    "\n",
    "time_step_size = 9 #x input 갯수\n",
    "batch_size = 1\n",
    "\n",
    "cell = tf.contrib.rnn.BasicLSTMCell(lstm_size, state_is_tuple=False)\n",
    "# cell= tf.contrib.rnn.MultiRNNCell([cell]*10)\n",
    "\n",
    "state = tf.zeros([1, cell.state_size])\n",
    "\n",
    "rnn_input = tf.cast(rnn_input, tf.int32)\n",
    "\n",
    "X_split = tf.split(0, time_step_size, rnn_input) #입력 array 모양 벡터의 array의 갯수"
   ]
  },
  {
   "cell_type": "code",
   "execution_count": 26,
   "metadata": {
    "collapsed": false
   },
   "outputs": [
    {
     "ename": "AttributeError",
     "evalue": "'module' object has no attribute 'rnn'",
     "output_type": "error",
     "traceback": [
      "\u001b[1;31m---------------------------------------------------------------------------\u001b[0m",
      "\u001b[1;31mAttributeError\u001b[0m                            Traceback (most recent call last)",
      "\u001b[1;32m<ipython-input-26-aa378da81ea6>\u001b[0m in \u001b[0;36m<module>\u001b[1;34m()\u001b[0m\n\u001b[1;32m----> 1\u001b[1;33m \u001b[0moutputs\u001b[0m\u001b[1;33m,\u001b[0m \u001b[0mstate\u001b[0m \u001b[1;33m=\u001b[0m \u001b[0mtf\u001b[0m\u001b[1;33m.\u001b[0m\u001b[0mnn\u001b[0m\u001b[1;33m.\u001b[0m\u001b[0mrnn\u001b[0m\u001b[1;33m(\u001b[0m\u001b[0mcell\u001b[0m\u001b[1;33m,\u001b[0m \u001b[0mX_split\u001b[0m\u001b[1;33m,\u001b[0m \u001b[0mstate\u001b[0m\u001b[1;33m)\u001b[0m\u001b[1;33m\u001b[0m\u001b[0m\n\u001b[0m",
      "\u001b[1;31mAttributeError\u001b[0m: 'module' object has no attribute 'rnn'"
     ]
    }
   ],
   "source": [
    "outputs, state = tf.nn.rnn(cell, X_split, state)"
   ]
  },
  {
   "cell_type": "code",
   "execution_count": null,
   "metadata": {
    "collapsed": false
   },
   "outputs": [],
   "source": [
    "logits = tf.reshape(tf.concat(1, outputs), [-1, lstm_size])\n",
    "targets = tf.reshape(Y, [-1])\n",
    "weights = tf.ones(time_step_size*batch_size)\n",
    "\n",
    "loss = tf.nn.seq2seq.sequence_loss_by_example(\n",
    "        [logits], [targets], [weights])\n",
    "cost = tf.reduce_sum(loss) / batch_size\n",
    "train_op = tf.train.AdamOptimizer(0.01, 0.9).minimize(cost)"
   ]
  }
 ],
 "metadata": {
  "kernelspec": {
   "display_name": "Python 3",
   "language": "python",
   "name": "python3"
  },
  "language_info": {
   "codemirror_mode": {
    "name": "ipython",
    "version": 3
   },
   "file_extension": ".py",
   "mimetype": "text/x-python",
   "name": "python",
   "nbconvert_exporter": "python",
   "pygments_lexer": "ipython3",
   "version": "3.4.5"
  }
 },
 "nbformat": 4,
 "nbformat_minor": 0
}
